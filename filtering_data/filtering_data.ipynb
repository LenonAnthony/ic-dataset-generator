{
 "cells": [
  {
   "cell_type": "code",
   "execution_count": 1,
   "metadata": {},
   "outputs": [
    {
     "name": "stdout",
     "output_type": "stream",
     "text": [
      "Sample of cleaned data:\n",
      "            input                                             output\n",
      "0  acessibilidade  Luz mais baixa, gostaria de uma luz mais baixa...\n",
      "1           agora  Agora, eu quero fazer isso agora, ⏰\\nEsperar, ...\n",
      "2           agora  Estou aqui, eu estou aqui agora, 👋\\nVamos brin...\n",
      "3       agradecer  Muito obrigado, quero agradecer de coração, 🙏\\...\n",
      "4           ajuda  Preciso de Ajuda, eu preciso de ajuda, 🤲\\nMe D...\n",
      "\n",
      "Original dataset size: 5363\n",
      "Cleaned dataset size: 5355\n",
      "Removed entries: 8\n"
     ]
    }
   ],
   "source": [
    "import pandas as pd\n",
    "import unidecode\n",
    "import re\n",
    "\n",
    "def clean_text(text):\n",
    "    \"\"\"Removing accents and special characters and converting to lowercase\"\"\"\n",
    "    text = text.lower()\n",
    "    text = unidecode.unidecode(text)\n",
    "    text = re.sub(r'[^a-z0-9\\s]', '', text)\n",
    "    return text\n",
    "\n",
    "def validate_output(output):\n",
    "    \"\"\"Checking if input has exactly 5 lines\"\"\"\n",
    "    lines = output.strip().split('\\n')\n",
    "    return len(lines) == 5\n",
    "\n",
    "df = pd.read_csv('../dataset.csv')\n",
    "\n",
    "c_data = []\n",
    "for _, row in df.iterrows():\n",
    "    input_text = clean_text(row['input'])\n",
    "    output_text = row['output']\n",
    "    \n",
    "    if validate_output(output_text):\n",
    "        c_data.append({\n",
    "            'input': input_text,\n",
    "            'output': output_text\n",
    "        })\n",
    "\n",
    "c_df = pd.DataFrame(c_data)\n",
    "\n",
    "c_df.to_csv('../cleaned_dataset.csv', index=False)\n",
    "\n",
    "print(\"Sample of cleaned data:\")\n",
    "print(c_df.head())\n",
    "print(f\"\\nOriginal dataset size: {len(df)}\")\n",
    "print(f\"Cleaned dataset size: {len(c_df)}\")\n",
    "print(f\"Removed entries: {len(df) - len(c_df)}\")"
   ]
  }
 ],
 "metadata": {
  "kernelspec": {
   "display_name": "ic-dataset",
   "language": "python",
   "name": "python3"
  },
  "language_info": {
   "codemirror_mode": {
    "name": "ipython",
    "version": 3
   },
   "file_extension": ".py",
   "mimetype": "text/x-python",
   "name": "python",
   "nbconvert_exporter": "python",
   "pygments_lexer": "ipython3",
   "version": "3.13.1"
  }
 },
 "nbformat": 4,
 "nbformat_minor": 2
}
