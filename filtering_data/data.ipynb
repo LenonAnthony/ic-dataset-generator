{
 "cells": [
  {
   "cell_type": "code",
   "execution_count": null,
   "metadata": {},
   "outputs": [
    {
     "name": "stdout",
     "output_type": "stream",
     "text": [
      "Nenhuma duplicata encontrada após a limpeza.\n"
     ]
    }
   ],
   "source": [
    "import pandas as pd\n",
    "import unidecode\n",
    "import re\n",
    "from collections import Counter\n",
    "\n",
    "def clean_text(text):\n",
    "    if pd.isna(text) or not isinstance(text, str):\n",
    "        return None\n",
    "    text = text.lower()\n",
    "    text = unidecode.unidecode(text)\n",
    "    text = re.sub(r'[^a-z0-9\\s]', '', text) \n",
    "    return text.strip()  \n",
    "\n",
    "df = pd.read_csv('../cleaned_dataset.csv')\n",
    "df.dropna(inplace=True)\n",
    "\n",
    "input_counts = Counter()\n",
    "for _, row in df.iterrows():\n",
    "    cleaned_input = clean_text(row['input'])\n",
    "    input_counts[cleaned_input] += 1\n",
    "\n",
    "duplicate_data = [\n",
    "    {'input': input_text, 'count': count} \n",
    "    for input_text, count in input_counts.items()\n",
    "    if count > 1\n",
    "]\n",
    "\n",
    "if duplicate_data:\n",
    "    duplicate_analysis = pd.DataFrame(duplicate_data)\n",
    "    duplicate_analysis = duplicate_analysis.sort_values('count', ascending=False)\n",
    "    duplicate_analysis.to_csv('../duplicate_analysis.csv', index=False)\n",
    "    print(duplicate_analysis.head(50))\n",
    "    print(f\"\\nTotal unique inputs with duplicates: {len(duplicate_analysis)}\")\n",
    "else:\n",
    "    print(\"Success! No duplicate inputs found.\")"
   ]
  }
 ],
 "metadata": {
  "kernelspec": {
   "display_name": "ic-dataset",
   "language": "python",
   "name": "python3"
  },
  "language_info": {
   "codemirror_mode": {
    "name": "ipython",
    "version": 3
   },
   "file_extension": ".py",
   "mimetype": "text/x-python",
   "name": "python",
   "nbconvert_exporter": "python",
   "pygments_lexer": "ipython3",
   "version": "3.13.1"
  }
 },
 "nbformat": 4,
 "nbformat_minor": 2
}
